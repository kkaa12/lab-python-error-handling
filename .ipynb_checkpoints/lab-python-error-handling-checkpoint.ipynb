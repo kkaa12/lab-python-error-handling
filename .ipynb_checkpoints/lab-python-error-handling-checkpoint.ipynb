{
 "cells": [
  {
   "cell_type": "markdown",
   "id": "25d7736c-ba17-4aff-b6bb-66eba20fbf4e",
   "metadata": {},
   "source": [
    "# Lab | Error Handling"
   ]
  },
  {
   "cell_type": "markdown",
   "id": "bc99b386-7508-47a0-bcdb-d969deaf6c8b",
   "metadata": {},
   "source": [
    "## Exercise: Error Handling for Managing Customer Orders\n",
    "\n",
    "The implementation of your code for managing customer orders assumes that the user will always enter a valid input. \n",
    "\n",
    "For example, we could modify the `initialize_inventory` function to include error handling.\n",
    "   - If the user enters an invalid quantity (e.g., a negative value or a non-numeric value), display an error message and ask them to re-enter the quantity for that product.\n",
    "   - Use a try-except block to handle the error and continue prompting the user until a valid quantity is entered.\n",
    "\n",
    "```python\n",
    "# Step 1: Define the function for initializing the inventory with error handling\n",
    "def initialize_inventory(products):\n",
    "    inventory = {}\n",
    "    for product in products:\n",
    "        valid_quantity = False\n",
    "        while not valid_quantity:\n",
    "            try:\n",
    "                quantity = int(input(f\"Enter the quantity of {product}s available: \"))\n",
    "                if quantity < 0:\n",
    "                    raise ValueError(\"Invalid quantity! Please enter a non-negative value.\")\n",
    "                valid_quantity = True\n",
    "            except ValueError as error:\n",
    "                print(f\"Error: {error}\")\n",
    "        inventory[product] = quantity\n",
    "    return inventory\n",
    "\n",
    "# Or, in another way:\n",
    "\n",
    "def initialize_inventory(products):\n",
    "    inventory = {}\n",
    "    for product in products:\n",
    "        valid_input = False\n",
    "        while not valid_input:\n",
    "            try:\n",
    "                quantity = int(input(f\"Enter the quantity of {product}s available: \"))\n",
    "                if quantity >= 0:\n",
    "                    inventory[product] = quantity\n",
    "                    valid_input = True\n",
    "                else:\n",
    "                    print(\"Quantity cannot be negative. Please enter a valid quantity.\")\n",
    "            except ValueError:\n",
    "                print(\"Invalid input. Please enter a valid quantity.\")\n",
    "    return inventory\n",
    "```\n",
    "\n",
    "Let's enhance your code by implementing error handling to handle invalid inputs.\n",
    "\n",
    "Follow the steps below to complete the exercise:\n",
    "\n",
    "2. Modify the `calculate_total_price` function to include error handling.\n",
    "   - If the user enters an invalid price (e.g., a negative value or a non-numeric value), display an error message and ask them to re-enter the price for that product.\n",
    "   - Use a try-except block to handle the error and continue prompting the user until a valid price is entered.\n",
    "\n",
    "3. Modify the `get_customer_orders` function to include error handling.\n",
    "   - If the user enters an invalid number of orders (e.g., a negative value or a non-numeric value), display an error message and ask them to re-enter the number of orders.\n",
    "   - If the user enters an invalid product name (e.g., a product name that is not in the inventory), or that doesn't have stock available, display an error message and ask them to re-enter the product name. *Hint: you will need to pass inventory as a parameter*\n",
    "   - Use a try-except block to handle the error and continue prompting the user until a valid product name is entered.\n",
    "\n",
    "4. Test your code by running the program and deliberately entering invalid quantities and product names. Make sure the error handling mechanism works as expected.\n"
   ]
  },
  {
   "cell_type": "code",
   "execution_count": 38,
   "id": "27eb6ff4",
   "metadata": {},
   "outputs": [
    {
     "name": "stdout",
     "output_type": "stream",
     "text": [
      "Enter the quantity of t-shirts available: 0\n",
      "Enter the quantity of mugs available: 2\n",
      "Enter the quantity of hats available: 0\n",
      "Enter the quantity of books available: 2\n",
      "Enter the quantity of keychains available: 0\n",
      "{'t-shirt': 0, 'mug': 2, 'hat': 0, 'book': 2, 'keychain': 0}\n"
     ]
    }
   ],
   "source": [
    "products = [\"t-shirt\", \"mug\", \"hat\", \"book\", \"keychain\"]\n",
    "\n",
    "def initialize_inventory(products):\n",
    "    inventory = {}\n",
    "    for product in products:\n",
    "        valid_input = False\n",
    "        while not valid_input:\n",
    "            try:\n",
    "                quantity = int(input(f\"Enter the quantity of {product}s available: \"))\n",
    "                if quantity >= 0:\n",
    "                    inventory[product] = quantity\n",
    "                    valid_input = True\n",
    "                else:\n",
    "                    print(\"Quantity cannot be negative. Please enter a valid quantity.\")\n",
    "            except ValueError:\n",
    "                print(\"Invalid input. Please enter a valid quantity.\")\n",
    "    return inventory\n",
    "\n",
    "inventory = initialize_inventory(products)\n",
    "print(inventory)"
   ]
  },
  {
   "cell_type": "code",
   "execution_count": 39,
   "id": "dea060a8",
   "metadata": {},
   "outputs": [
    {
     "name": "stdout",
     "output_type": "stream",
     "text": [
      "Enter number of customer orders: 2\n",
      "Choose which one of ['t-shirt', 'mug', 'hat', 'book', 'keychain'] product customer wants to order: mug\n",
      "Choose which one of ['t-shirt', 'mug', 'hat', 'book', 'keychain'] product customer wants to order: hat\n",
      "hat has no stock available. Please choose a different product.\n",
      "Choose which one of ['t-shirt', 'mug', 'hat', 'book', 'keychain'] product customer wants to order: book\n",
      "{'book', 'mug'}\n"
     ]
    }
   ],
   "source": [
    "def get_customer_orders(products, inventory):\n",
    "    while True:\n",
    "        try:\n",
    "            number_orders = int(input(\"Enter number of customer orders: \"))\n",
    "            break \n",
    "        except ValueError:\n",
    "            print(\"Please enter a valid integer.\")\n",
    "\n",
    "    product_names = set()\n",
    "    for _ in range(number_orders):\n",
    "        while True:\n",
    "            product_choice = input(f\"Choose which one of {products} product customer wants to order: \").lower().strip()\n",
    "            if product_choice in products and inventory.get(product_choice, 0) > 0:\n",
    "                product_names.add(product_choice)\n",
    "                break  \n",
    "            elif product_choice in products and inventory.get(product_choice, 0) <= 0:\n",
    "                print(f\"{product_choice} has no stock available. Please choose a different product.\")\n",
    "            else:\n",
    "                print(f\"Invalid choice. Please choose from {products}.\")\n",
    "\n",
    "    return product_names\n",
    "\n",
    "\n",
    "customer_orders = get_customer_orders(products, inventory)\n",
    "print(customer_orders)\n",
    "\n"
   ]
  },
  {
   "cell_type": "code",
   "execution_count": 41,
   "id": "58ffe36c",
   "metadata": {},
   "outputs": [
    {
     "name": "stdout",
     "output_type": "stream",
     "text": [
      "Enter price of book: 3.56\n",
      "Enter price of mug: 4.55\n",
      "Total price is: 8.11\n"
     ]
    }
   ],
   "source": [
    "def get_total_price(customer_orders):\n",
    "    total_price = 0  \n",
    "\n",
    "    for element in customer_orders:\n",
    "        while True: \n",
    "            try:\n",
    "                price_product = float(input(f\"Enter price of {element}: \"))\n",
    "                if price_product >= 0:\n",
    "                    total_price += price_product \n",
    "                    break  \n",
    "                else:\n",
    "                    print(\"Price cannot be negative. Please enter a valid price.\")\n",
    "            except ValueError:\n",
    "                print(\"Invalid input. Please enter a valid price.\")\n",
    "    \n",
    "    return total_price\n",
    "\n",
    "total_price = get_total_price(customer_orders)\n",
    "print(f\"Total price is: {total_price}\")\n"
   ]
  }
 ],
 "metadata": {
  "kernelspec": {
   "display_name": "Python 3 (ipykernel)",
   "language": "python",
   "name": "python3"
  },
  "language_info": {
   "codemirror_mode": {
    "name": "ipython",
    "version": 3
   },
   "file_extension": ".py",
   "mimetype": "text/x-python",
   "name": "python",
   "nbconvert_exporter": "python",
   "pygments_lexer": "ipython3",
   "version": "3.11.5"
  }
 },
 "nbformat": 4,
 "nbformat_minor": 5
}
